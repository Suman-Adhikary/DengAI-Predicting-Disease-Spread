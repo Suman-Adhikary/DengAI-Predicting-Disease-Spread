{
  "nbformat": 4,
  "nbformat_minor": 0,
  "metadata": {
    "colab": {
      "provenance": [],
      "authorship_tag": "ABX9TyPkg8eCJ3LHprhwE+kOWfn2",
      "include_colab_link": true
    },
    "kernelspec": {
      "name": "python3",
      "display_name": "Python 3"
    },
    "language_info": {
      "name": "python"
    }
  },
  "cells": [
    {
      "cell_type": "markdown",
      "metadata": {
        "id": "view-in-github",
        "colab_type": "text"
      },
      "source": [
        "<a href=\"https://colab.research.google.com/github/Suman-Adhikary/DengAI-Predicting-Disease-Spread/blob/main/DengAI_Predicting_Disease_Spread.ipynb\" target=\"_parent\"><img src=\"https://colab.research.google.com/assets/colab-badge.svg\" alt=\"Open In Colab\"/></a>"
      ]
    },
    {
      "cell_type": "markdown",
      "source": [
        "# Import libraries."
      ],
      "metadata": {
        "id": "4dFV_0PmMcF0"
      }
    },
    {
      "cell_type": "code",
      "execution_count": 1,
      "metadata": {
        "id": "ZuxeIIvNL-dq"
      },
      "outputs": [],
      "source": [
        "import pandas as pd\n",
        "import numpy as np\n",
        "import matplotlib.pyplot as plt"
      ]
    },
    {
      "cell_type": "markdown",
      "source": [
        "# Import datasets."
      ],
      "metadata": {
        "id": "XubJVaBjMxe1"
      }
    },
    {
      "cell_type": "code",
      "source": [
        "train_data = pd.read_csv(\"dengue_features_train.csv\")\n",
        "test_data = pd.read_csv(\"dengue_features_test.csv\")"
      ],
      "metadata": {
        "id": "e1sCe-a5MzrL"
      },
      "execution_count": 2,
      "outputs": []
    },
    {
      "cell_type": "code",
      "source": [],
      "metadata": {
        "id": "7J2wlNylNDNK"
      },
      "execution_count": null,
      "outputs": []
    }
  ]
}